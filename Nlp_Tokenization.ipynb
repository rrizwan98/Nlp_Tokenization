{
  "nbformat": 4,
  "nbformat_minor": 0,
  "metadata": {
    "colab": {
      "name": "Nlp Tokenization.ipynb",
      "provenance": [],
      "authorship_tag": "ABX9TyOrBwFozebsTGduicZD9fII",
      "include_colab_link": true
    },
    "kernelspec": {
      "name": "python3",
      "display_name": "Python 3"
    },
    "accelerator": "GPU"
  },
  "cells": [
    {
      "cell_type": "markdown",
      "metadata": {
        "id": "view-in-github",
        "colab_type": "text"
      },
      "source": [
        "<a href=\"https://colab.research.google.com/github/rrizwan98/Nlp_Tokenization/blob/main/Nlp_Tokenization.ipynb\" target=\"_parent\"><img src=\"https://colab.research.google.com/assets/colab-badge.svg\" alt=\"Open In Colab\"/></a>"
      ]
    },
    {
      "cell_type": "code",
      "metadata": {
        "id": "LOSVWoIqpkFY",
        "colab": {
          "base_uri": "https://localhost:8080/",
          "height": 34
        },
        "outputId": "4d5d7fe3-a90f-470a-bc17-41c627832d51"
      },
      "source": [
        "import re\n",
        "text='H\\'i iam  Raza\\ and i am software Engineer to bee.'\n",
        "word=re.split(r'\\W+',text)\n",
        "print(word[:100])"
      ],
      "execution_count": null,
      "outputs": [
        {
          "output_type": "stream",
          "text": [
            "['H', 'i', 'iam', 'Raza', 'and', 'i', 'am', 'software', 'Engineer', 'to', 'bee', '']\n"
          ],
          "name": "stdout"
        }
      ]
    },
    {
      "cell_type": "code",
      "metadata": {
        "id": "e4IB05glrtlO",
        "colab": {
          "base_uri": "https://localhost:8080/",
          "height": 34
        },
        "outputId": "6582466c-6f6f-4647-cfd0-2003b19968a8"
      },
      "source": [
        "import string\n",
        "# Split into word by wide space\n",
        "word=text.split()\n",
        "#remove puncuation\n",
        "re_punc=re.compile('[%s]' % re.escape(string.punctuation))\n",
        "#remove puncuation for each word\n",
        "sttrip=[re_punc.sub('',w) for w in word]\n",
        "print(sttrip[:100])"
      ],
      "execution_count": null,
      "outputs": [
        {
          "output_type": "stream",
          "text": [
            "['Hi', 'iam', 'Raza', 'and', 'i', 'am', 'software', 'Engineer', 'to', 'bee']\n"
          ],
          "name": "stdout"
        }
      ]
    },
    {
      "cell_type": "code",
      "metadata": {
        "id": "TtzupUEwtkbu"
      },
      "source": [
        "import spacy\n",
        "nlp=spacy.load('en_core_web_sm')"
      ],
      "execution_count": null,
      "outputs": []
    },
    {
      "cell_type": "code",
      "metadata": {
        "id": "S8LSNdxLvrTT",
        "colab": {
          "base_uri": "https://localhost:8080/",
          "height": 34
        },
        "outputId": "b0da1d8c-18bb-406b-c9c2-eb3f5893f95b"
      },
      "source": [
        "string='\"H\\'i iam  Raza and i am software Engineer to bee.!\"'\n",
        "print(string)"
      ],
      "execution_count": null,
      "outputs": [
        {
          "output_type": "stream",
          "text": [
            "\"H'i iam  Raza and i am software Engineer to bee.!\"\n"
          ],
          "name": "stdout"
        }
      ]
    },
    {
      "cell_type": "code",
      "metadata": {
        "id": "Ic_meKMvv5UB",
        "colab": {
          "base_uri": "https://localhost:8080/",
          "height": 34
        },
        "outputId": "d06e392d-2428-4010-dc3c-881fbe3f19a7"
      },
      "source": [
        "doc=nlp(string)\n",
        "for i in doc:\n",
        "  print(i.text, end=' | ')"
      ],
      "execution_count": null,
      "outputs": [
        {
          "output_type": "stream",
          "text": [
            "\" | H'i | iam |   | Raza | and | i | am | software | Engineer | to | bee | . | ! | \" | "
          ],
          "name": "stdout"
        }
      ]
    },
    {
      "cell_type": "code",
      "metadata": {
        "id": "XaQ6EF9IwUWu",
        "colab": {
          "base_uri": "https://localhost:8080/",
          "height": 374
        },
        "outputId": "84b0bcf2-c5b1-4671-ff1b-f61488b544a0"
      },
      "source": [
        "doc2=nlp(u\"H\\'i iam  Raza and i am software Engineer to bee.! and my salary is $12.30 per hour\")\n",
        "for i in doc2:\n",
        "  print(i)"
      ],
      "execution_count": null,
      "outputs": [
        {
          "output_type": "stream",
          "text": [
            "H'i\n",
            "iam\n",
            " \n",
            "Raza\n",
            "and\n",
            "i\n",
            "am\n",
            "software\n",
            "Engineer\n",
            "to\n",
            "bee\n",
            ".\n",
            "!\n",
            "and\n",
            "my\n",
            "salary\n",
            "is\n",
            "$\n",
            "12.30\n",
            "per\n",
            "hour\n"
          ],
          "name": "stdout"
        }
      ]
    },
    {
      "cell_type": "code",
      "metadata": {
        "id": "2cZJ-pm7ye6S",
        "colab": {
          "base_uri": "https://localhost:8080/",
          "height": 34
        },
        "outputId": "3a9ab024-8d49-460b-eca0-bdd053ae3ffc"
      },
      "source": [
        "len(doc2)"
      ],
      "execution_count": null,
      "outputs": [
        {
          "output_type": "execute_result",
          "data": {
            "text/plain": [
              "21"
            ]
          },
          "metadata": {
            "tags": []
          },
          "execution_count": 13
        }
      ]
    },
    {
      "cell_type": "code",
      "metadata": {
        "id": "yAZ8Vf6By02d",
        "colab": {
          "base_uri": "https://localhost:8080/",
          "height": 34
        },
        "outputId": "25b72fe5-5373-4544-82b3-c73fa07edd22"
      },
      "source": [
        "len(doc2.vocab)"
      ],
      "execution_count": null,
      "outputs": [
        {
          "output_type": "execute_result",
          "data": {
            "text/plain": [
              "496"
            ]
          },
          "metadata": {
            "tags": []
          },
          "execution_count": 14
        }
      ]
    },
    {
      "cell_type": "code",
      "metadata": {
        "id": "WR4fg4mxy4Eu",
        "colab": {
          "base_uri": "https://localhost:8080/",
          "height": 139
        },
        "outputId": "693cf0d7-0281-4254-ba96-c682c98b0269"
      },
      "source": [
        "doc3=nlp(u\"H\\'i iam  Raza and i am software Engineer to bee.! and my salary is $12.30 per hour\")\n",
        "\n",
        "for i in doc3:\n",
        "  print(i.text,end=' | ')\n",
        "\n",
        "print('\\n\\n------------')\n",
        "\n",
        "for ent in doc3.ents:\n",
        "  print(ent.text,'--',ent.label_,'-',str(spacy.explain(ent.label_)))"
      ],
      "execution_count": null,
      "outputs": [
        {
          "output_type": "stream",
          "text": [
            "H'i | iam |   | Raza | and | i | am | software | Engineer | to | bee | . | ! | and | my | salary | is | $ | 12.30 | per | hour | \n",
            "\n",
            "------------\n",
            "H'i iam   -- PERSON - People, including fictional\n",
            "Raza -- PRODUCT - Objects, vehicles, foods, etc. (not services)\n",
            "12.30 -- MONEY - Monetary values, including unit\n"
          ],
          "name": "stdout"
        }
      ]
    },
    {
      "cell_type": "code",
      "metadata": {
        "id": "_acb6Iwq0DCd",
        "colab": {
          "base_uri": "https://localhost:8080/",
          "height": 120
        },
        "outputId": "6433afea-cbb7-4d00-f6b8-72fdd0555801"
      },
      "source": [
        "doc4=nlp(u\"H\\'i iam  Raza and i am software Engineer to bee.! and my salary is $12.30 per hour\")\n",
        "\n",
        "for chunk in doc4.noun_chunks:\n",
        "  print(chunk.text)"
      ],
      "execution_count": null,
      "outputs": [
        {
          "output_type": "stream",
          "text": [
            "H'i iam\n",
            "Raza\n",
            "i\n",
            "software Engineer\n",
            "my salary\n",
            "hour\n"
          ],
          "name": "stdout"
        }
      ]
    },
    {
      "cell_type": "code",
      "metadata": {
        "id": "VeriM28B1Vv9",
        "colab": {
          "base_uri": "https://localhost:8080/",
          "height": 398
        },
        "outputId": "6f6b708c-5656-48a5-9542-9446666bb348"
      },
      "source": [
        "from spacy import displacy\n",
        "\n",
        "doc5=nlp(u\"H\\'i iam  Raza and i am software Engineer to bee.! and my salary is $12.30 per hour\")\n",
        "displacy.render(doc5,style='dep',jupyter=True,options={'distance' : 110})"
      ],
      "execution_count": null,
      "outputs": [
        {
          "output_type": "display_data",
          "data": {
            "text/html": [
              "<span class=\"tex2jax_ignore\"><svg xmlns=\"http://www.w3.org/2000/svg\" xmlns:xlink=\"http://www.w3.org/1999/xlink\" xml:lang=\"en\" id=\"81e0c353d00f484f9a73c1ce4512cff6-0\" class=\"displacy\" width=\"2140\" height=\"357.0\" direction=\"ltr\" style=\"max-width: none; height: 357.0px; color: #000000; background: #ffffff; font-family: Arial; direction: ltr\">\n",
              "<text class=\"displacy-token\" fill=\"currentColor\" text-anchor=\"middle\" y=\"267.0\">\n",
              "    <tspan class=\"displacy-word\" fill=\"currentColor\" x=\"50\">H'i</tspan>\n",
              "    <tspan class=\"displacy-tag\" dy=\"2em\" fill=\"currentColor\" x=\"50\">PROPN</tspan>\n",
              "</text>\n",
              "\n",
              "<text class=\"displacy-token\" fill=\"currentColor\" text-anchor=\"middle\" y=\"267.0\">\n",
              "    <tspan class=\"displacy-word\" fill=\"currentColor\" x=\"160\">iam</tspan>\n",
              "    <tspan class=\"displacy-tag\" dy=\"2em\" fill=\"currentColor\" x=\"160\">PROPN</tspan>\n",
              "</text>\n",
              "\n",
              "<text class=\"displacy-token\" fill=\"currentColor\" text-anchor=\"middle\" y=\"267.0\">\n",
              "    <tspan class=\"displacy-word\" fill=\"currentColor\" x=\"270\"> </tspan>\n",
              "    <tspan class=\"displacy-tag\" dy=\"2em\" fill=\"currentColor\" x=\"270\">SPACE</tspan>\n",
              "</text>\n",
              "\n",
              "<text class=\"displacy-token\" fill=\"currentColor\" text-anchor=\"middle\" y=\"267.0\">\n",
              "    <tspan class=\"displacy-word\" fill=\"currentColor\" x=\"380\">Raza</tspan>\n",
              "    <tspan class=\"displacy-tag\" dy=\"2em\" fill=\"currentColor\" x=\"380\">PROPN</tspan>\n",
              "</text>\n",
              "\n",
              "<text class=\"displacy-token\" fill=\"currentColor\" text-anchor=\"middle\" y=\"267.0\">\n",
              "    <tspan class=\"displacy-word\" fill=\"currentColor\" x=\"490\">and</tspan>\n",
              "    <tspan class=\"displacy-tag\" dy=\"2em\" fill=\"currentColor\" x=\"490\">CCONJ</tspan>\n",
              "</text>\n",
              "\n",
              "<text class=\"displacy-token\" fill=\"currentColor\" text-anchor=\"middle\" y=\"267.0\">\n",
              "    <tspan class=\"displacy-word\" fill=\"currentColor\" x=\"600\">i</tspan>\n",
              "    <tspan class=\"displacy-tag\" dy=\"2em\" fill=\"currentColor\" x=\"600\">PRON</tspan>\n",
              "</text>\n",
              "\n",
              "<text class=\"displacy-token\" fill=\"currentColor\" text-anchor=\"middle\" y=\"267.0\">\n",
              "    <tspan class=\"displacy-word\" fill=\"currentColor\" x=\"710\">am</tspan>\n",
              "    <tspan class=\"displacy-tag\" dy=\"2em\" fill=\"currentColor\" x=\"710\">AUX</tspan>\n",
              "</text>\n",
              "\n",
              "<text class=\"displacy-token\" fill=\"currentColor\" text-anchor=\"middle\" y=\"267.0\">\n",
              "    <tspan class=\"displacy-word\" fill=\"currentColor\" x=\"820\">software</tspan>\n",
              "    <tspan class=\"displacy-tag\" dy=\"2em\" fill=\"currentColor\" x=\"820\">NOUN</tspan>\n",
              "</text>\n",
              "\n",
              "<text class=\"displacy-token\" fill=\"currentColor\" text-anchor=\"middle\" y=\"267.0\">\n",
              "    <tspan class=\"displacy-word\" fill=\"currentColor\" x=\"930\">Engineer</tspan>\n",
              "    <tspan class=\"displacy-tag\" dy=\"2em\" fill=\"currentColor\" x=\"930\">PROPN</tspan>\n",
              "</text>\n",
              "\n",
              "<text class=\"displacy-token\" fill=\"currentColor\" text-anchor=\"middle\" y=\"267.0\">\n",
              "    <tspan class=\"displacy-word\" fill=\"currentColor\" x=\"1040\">to</tspan>\n",
              "    <tspan class=\"displacy-tag\" dy=\"2em\" fill=\"currentColor\" x=\"1040\">ADP</tspan>\n",
              "</text>\n",
              "\n",
              "<text class=\"displacy-token\" fill=\"currentColor\" text-anchor=\"middle\" y=\"267.0\">\n",
              "    <tspan class=\"displacy-word\" fill=\"currentColor\" x=\"1150\">bee.!</tspan>\n",
              "    <tspan class=\"displacy-tag\" dy=\"2em\" fill=\"currentColor\" x=\"1150\">VERB</tspan>\n",
              "</text>\n",
              "\n",
              "<text class=\"displacy-token\" fill=\"currentColor\" text-anchor=\"middle\" y=\"267.0\">\n",
              "    <tspan class=\"displacy-word\" fill=\"currentColor\" x=\"1260\">and</tspan>\n",
              "    <tspan class=\"displacy-tag\" dy=\"2em\" fill=\"currentColor\" x=\"1260\">CCONJ</tspan>\n",
              "</text>\n",
              "\n",
              "<text class=\"displacy-token\" fill=\"currentColor\" text-anchor=\"middle\" y=\"267.0\">\n",
              "    <tspan class=\"displacy-word\" fill=\"currentColor\" x=\"1370\">my</tspan>\n",
              "    <tspan class=\"displacy-tag\" dy=\"2em\" fill=\"currentColor\" x=\"1370\">DET</tspan>\n",
              "</text>\n",
              "\n",
              "<text class=\"displacy-token\" fill=\"currentColor\" text-anchor=\"middle\" y=\"267.0\">\n",
              "    <tspan class=\"displacy-word\" fill=\"currentColor\" x=\"1480\">salary</tspan>\n",
              "    <tspan class=\"displacy-tag\" dy=\"2em\" fill=\"currentColor\" x=\"1480\">NOUN</tspan>\n",
              "</text>\n",
              "\n",
              "<text class=\"displacy-token\" fill=\"currentColor\" text-anchor=\"middle\" y=\"267.0\">\n",
              "    <tspan class=\"displacy-word\" fill=\"currentColor\" x=\"1590\">is</tspan>\n",
              "    <tspan class=\"displacy-tag\" dy=\"2em\" fill=\"currentColor\" x=\"1590\">AUX</tspan>\n",
              "</text>\n",
              "\n",
              "<text class=\"displacy-token\" fill=\"currentColor\" text-anchor=\"middle\" y=\"267.0\">\n",
              "    <tspan class=\"displacy-word\" fill=\"currentColor\" x=\"1700\">$</tspan>\n",
              "    <tspan class=\"displacy-tag\" dy=\"2em\" fill=\"currentColor\" x=\"1700\">SYM</tspan>\n",
              "</text>\n",
              "\n",
              "<text class=\"displacy-token\" fill=\"currentColor\" text-anchor=\"middle\" y=\"267.0\">\n",
              "    <tspan class=\"displacy-word\" fill=\"currentColor\" x=\"1810\">12.30</tspan>\n",
              "    <tspan class=\"displacy-tag\" dy=\"2em\" fill=\"currentColor\" x=\"1810\">NUM</tspan>\n",
              "</text>\n",
              "\n",
              "<text class=\"displacy-token\" fill=\"currentColor\" text-anchor=\"middle\" y=\"267.0\">\n",
              "    <tspan class=\"displacy-word\" fill=\"currentColor\" x=\"1920\">per</tspan>\n",
              "    <tspan class=\"displacy-tag\" dy=\"2em\" fill=\"currentColor\" x=\"1920\">ADP</tspan>\n",
              "</text>\n",
              "\n",
              "<text class=\"displacy-token\" fill=\"currentColor\" text-anchor=\"middle\" y=\"267.0\">\n",
              "    <tspan class=\"displacy-word\" fill=\"currentColor\" x=\"2030\">hour</tspan>\n",
              "    <tspan class=\"displacy-tag\" dy=\"2em\" fill=\"currentColor\" x=\"2030\">NOUN</tspan>\n",
              "</text>\n",
              "\n",
              "<g class=\"displacy-arrow\">\n",
              "    <path class=\"displacy-arc\" id=\"arrow-81e0c353d00f484f9a73c1ce4512cff6-0-0\" stroke-width=\"2px\" d=\"M70,222.0 C70,167.0 145.0,167.0 145.0,222.0\" fill=\"none\" stroke=\"currentColor\"/>\n",
              "    <text dy=\"1.25em\" style=\"font-size: 0.8em; letter-spacing: 1px\">\n",
              "        <textPath xlink:href=\"#arrow-81e0c353d00f484f9a73c1ce4512cff6-0-0\" class=\"displacy-label\" startOffset=\"50%\" side=\"left\" fill=\"currentColor\" text-anchor=\"middle\">compound</textPath>\n",
              "    </text>\n",
              "    <path class=\"displacy-arrowhead\" d=\"M70,224.0 L62,212.0 78,212.0\" fill=\"currentColor\"/>\n",
              "</g>\n",
              "\n",
              "<g class=\"displacy-arrow\">\n",
              "    <path class=\"displacy-arc\" id=\"arrow-81e0c353d00f484f9a73c1ce4512cff6-0-1\" stroke-width=\"2px\" d=\"M180,222.0 C180,167.0 255.0,167.0 255.0,222.0\" fill=\"none\" stroke=\"currentColor\"/>\n",
              "    <text dy=\"1.25em\" style=\"font-size: 0.8em; letter-spacing: 1px\">\n",
              "        <textPath xlink:href=\"#arrow-81e0c353d00f484f9a73c1ce4512cff6-0-1\" class=\"displacy-label\" startOffset=\"50%\" side=\"left\" fill=\"currentColor\" text-anchor=\"middle\"></textPath>\n",
              "    </text>\n",
              "    <path class=\"displacy-arrowhead\" d=\"M255.0,224.0 L263.0,212.0 247.0,212.0\" fill=\"currentColor\"/>\n",
              "</g>\n",
              "\n",
              "<g class=\"displacy-arrow\">\n",
              "    <path class=\"displacy-arc\" id=\"arrow-81e0c353d00f484f9a73c1ce4512cff6-0-2\" stroke-width=\"2px\" d=\"M400,222.0 C400,167.0 475.0,167.0 475.0,222.0\" fill=\"none\" stroke=\"currentColor\"/>\n",
              "    <text dy=\"1.25em\" style=\"font-size: 0.8em; letter-spacing: 1px\">\n",
              "        <textPath xlink:href=\"#arrow-81e0c353d00f484f9a73c1ce4512cff6-0-2\" class=\"displacy-label\" startOffset=\"50%\" side=\"left\" fill=\"currentColor\" text-anchor=\"middle\">cc</textPath>\n",
              "    </text>\n",
              "    <path class=\"displacy-arrowhead\" d=\"M475.0,224.0 L483.0,212.0 467.0,212.0\" fill=\"currentColor\"/>\n",
              "</g>\n",
              "\n",
              "<g class=\"displacy-arrow\">\n",
              "    <path class=\"displacy-arc\" id=\"arrow-81e0c353d00f484f9a73c1ce4512cff6-0-3\" stroke-width=\"2px\" d=\"M620,222.0 C620,167.0 695.0,167.0 695.0,222.0\" fill=\"none\" stroke=\"currentColor\"/>\n",
              "    <text dy=\"1.25em\" style=\"font-size: 0.8em; letter-spacing: 1px\">\n",
              "        <textPath xlink:href=\"#arrow-81e0c353d00f484f9a73c1ce4512cff6-0-3\" class=\"displacy-label\" startOffset=\"50%\" side=\"left\" fill=\"currentColor\" text-anchor=\"middle\">nsubj</textPath>\n",
              "    </text>\n",
              "    <path class=\"displacy-arrowhead\" d=\"M620,224.0 L612,212.0 628,212.0\" fill=\"currentColor\"/>\n",
              "</g>\n",
              "\n",
              "<g class=\"displacy-arrow\">\n",
              "    <path class=\"displacy-arc\" id=\"arrow-81e0c353d00f484f9a73c1ce4512cff6-0-4\" stroke-width=\"2px\" d=\"M840,222.0 C840,167.0 915.0,167.0 915.0,222.0\" fill=\"none\" stroke=\"currentColor\"/>\n",
              "    <text dy=\"1.25em\" style=\"font-size: 0.8em; letter-spacing: 1px\">\n",
              "        <textPath xlink:href=\"#arrow-81e0c353d00f484f9a73c1ce4512cff6-0-4\" class=\"displacy-label\" startOffset=\"50%\" side=\"left\" fill=\"currentColor\" text-anchor=\"middle\">compound</textPath>\n",
              "    </text>\n",
              "    <path class=\"displacy-arrowhead\" d=\"M840,224.0 L832,212.0 848,212.0\" fill=\"currentColor\"/>\n",
              "</g>\n",
              "\n",
              "<g class=\"displacy-arrow\">\n",
              "    <path class=\"displacy-arc\" id=\"arrow-81e0c353d00f484f9a73c1ce4512cff6-0-5\" stroke-width=\"2px\" d=\"M950,222.0 C950,112.0 1140.0,112.0 1140.0,222.0\" fill=\"none\" stroke=\"currentColor\"/>\n",
              "    <text dy=\"1.25em\" style=\"font-size: 0.8em; letter-spacing: 1px\">\n",
              "        <textPath xlink:href=\"#arrow-81e0c353d00f484f9a73c1ce4512cff6-0-5\" class=\"displacy-label\" startOffset=\"50%\" side=\"left\" fill=\"currentColor\" text-anchor=\"middle\">nsubj</textPath>\n",
              "    </text>\n",
              "    <path class=\"displacy-arrowhead\" d=\"M950,224.0 L942,212.0 958,212.0\" fill=\"currentColor\"/>\n",
              "</g>\n",
              "\n",
              "<g class=\"displacy-arrow\">\n",
              "    <path class=\"displacy-arc\" id=\"arrow-81e0c353d00f484f9a73c1ce4512cff6-0-6\" stroke-width=\"2px\" d=\"M1060,222.0 C1060,167.0 1135.0,167.0 1135.0,222.0\" fill=\"none\" stroke=\"currentColor\"/>\n",
              "    <text dy=\"1.25em\" style=\"font-size: 0.8em; letter-spacing: 1px\">\n",
              "        <textPath xlink:href=\"#arrow-81e0c353d00f484f9a73c1ce4512cff6-0-6\" class=\"displacy-label\" startOffset=\"50%\" side=\"left\" fill=\"currentColor\" text-anchor=\"middle\">aux</textPath>\n",
              "    </text>\n",
              "    <path class=\"displacy-arrowhead\" d=\"M1060,224.0 L1052,212.0 1068,212.0\" fill=\"currentColor\"/>\n",
              "</g>\n",
              "\n",
              "<g class=\"displacy-arrow\">\n",
              "    <path class=\"displacy-arc\" id=\"arrow-81e0c353d00f484f9a73c1ce4512cff6-0-7\" stroke-width=\"2px\" d=\"M730,222.0 C730,2.0 1150.0,2.0 1150.0,222.0\" fill=\"none\" stroke=\"currentColor\"/>\n",
              "    <text dy=\"1.25em\" style=\"font-size: 0.8em; letter-spacing: 1px\">\n",
              "        <textPath xlink:href=\"#arrow-81e0c353d00f484f9a73c1ce4512cff6-0-7\" class=\"displacy-label\" startOffset=\"50%\" side=\"left\" fill=\"currentColor\" text-anchor=\"middle\">ccomp</textPath>\n",
              "    </text>\n",
              "    <path class=\"displacy-arrowhead\" d=\"M1150.0,224.0 L1158.0,212.0 1142.0,212.0\" fill=\"currentColor\"/>\n",
              "</g>\n",
              "\n",
              "<g class=\"displacy-arrow\">\n",
              "    <path class=\"displacy-arc\" id=\"arrow-81e0c353d00f484f9a73c1ce4512cff6-0-8\" stroke-width=\"2px\" d=\"M1280,222.0 C1280,57.0 1585.0,57.0 1585.0,222.0\" fill=\"none\" stroke=\"currentColor\"/>\n",
              "    <text dy=\"1.25em\" style=\"font-size: 0.8em; letter-spacing: 1px\">\n",
              "        <textPath xlink:href=\"#arrow-81e0c353d00f484f9a73c1ce4512cff6-0-8\" class=\"displacy-label\" startOffset=\"50%\" side=\"left\" fill=\"currentColor\" text-anchor=\"middle\">cc</textPath>\n",
              "    </text>\n",
              "    <path class=\"displacy-arrowhead\" d=\"M1280,224.0 L1272,212.0 1288,212.0\" fill=\"currentColor\"/>\n",
              "</g>\n",
              "\n",
              "<g class=\"displacy-arrow\">\n",
              "    <path class=\"displacy-arc\" id=\"arrow-81e0c353d00f484f9a73c1ce4512cff6-0-9\" stroke-width=\"2px\" d=\"M1390,222.0 C1390,167.0 1465.0,167.0 1465.0,222.0\" fill=\"none\" stroke=\"currentColor\"/>\n",
              "    <text dy=\"1.25em\" style=\"font-size: 0.8em; letter-spacing: 1px\">\n",
              "        <textPath xlink:href=\"#arrow-81e0c353d00f484f9a73c1ce4512cff6-0-9\" class=\"displacy-label\" startOffset=\"50%\" side=\"left\" fill=\"currentColor\" text-anchor=\"middle\">poss</textPath>\n",
              "    </text>\n",
              "    <path class=\"displacy-arrowhead\" d=\"M1390,224.0 L1382,212.0 1398,212.0\" fill=\"currentColor\"/>\n",
              "</g>\n",
              "\n",
              "<g class=\"displacy-arrow\">\n",
              "    <path class=\"displacy-arc\" id=\"arrow-81e0c353d00f484f9a73c1ce4512cff6-0-10\" stroke-width=\"2px\" d=\"M1500,222.0 C1500,167.0 1575.0,167.0 1575.0,222.0\" fill=\"none\" stroke=\"currentColor\"/>\n",
              "    <text dy=\"1.25em\" style=\"font-size: 0.8em; letter-spacing: 1px\">\n",
              "        <textPath xlink:href=\"#arrow-81e0c353d00f484f9a73c1ce4512cff6-0-10\" class=\"displacy-label\" startOffset=\"50%\" side=\"left\" fill=\"currentColor\" text-anchor=\"middle\">nsubj</textPath>\n",
              "    </text>\n",
              "    <path class=\"displacy-arrowhead\" d=\"M1500,224.0 L1492,212.0 1508,212.0\" fill=\"currentColor\"/>\n",
              "</g>\n",
              "\n",
              "<g class=\"displacy-arrow\">\n",
              "    <path class=\"displacy-arc\" id=\"arrow-81e0c353d00f484f9a73c1ce4512cff6-0-11\" stroke-width=\"2px\" d=\"M1720,222.0 C1720,167.0 1795.0,167.0 1795.0,222.0\" fill=\"none\" stroke=\"currentColor\"/>\n",
              "    <text dy=\"1.25em\" style=\"font-size: 0.8em; letter-spacing: 1px\">\n",
              "        <textPath xlink:href=\"#arrow-81e0c353d00f484f9a73c1ce4512cff6-0-11\" class=\"displacy-label\" startOffset=\"50%\" side=\"left\" fill=\"currentColor\" text-anchor=\"middle\">nmod</textPath>\n",
              "    </text>\n",
              "    <path class=\"displacy-arrowhead\" d=\"M1720,224.0 L1712,212.0 1728,212.0\" fill=\"currentColor\"/>\n",
              "</g>\n",
              "\n",
              "<g class=\"displacy-arrow\">\n",
              "    <path class=\"displacy-arc\" id=\"arrow-81e0c353d00f484f9a73c1ce4512cff6-0-12\" stroke-width=\"2px\" d=\"M1610,222.0 C1610,112.0 1800.0,112.0 1800.0,222.0\" fill=\"none\" stroke=\"currentColor\"/>\n",
              "    <text dy=\"1.25em\" style=\"font-size: 0.8em; letter-spacing: 1px\">\n",
              "        <textPath xlink:href=\"#arrow-81e0c353d00f484f9a73c1ce4512cff6-0-12\" class=\"displacy-label\" startOffset=\"50%\" side=\"left\" fill=\"currentColor\" text-anchor=\"middle\">attr</textPath>\n",
              "    </text>\n",
              "    <path class=\"displacy-arrowhead\" d=\"M1800.0,224.0 L1808.0,212.0 1792.0,212.0\" fill=\"currentColor\"/>\n",
              "</g>\n",
              "\n",
              "<g class=\"displacy-arrow\">\n",
              "    <path class=\"displacy-arc\" id=\"arrow-81e0c353d00f484f9a73c1ce4512cff6-0-13\" stroke-width=\"2px\" d=\"M1830,222.0 C1830,167.0 1905.0,167.0 1905.0,222.0\" fill=\"none\" stroke=\"currentColor\"/>\n",
              "    <text dy=\"1.25em\" style=\"font-size: 0.8em; letter-spacing: 1px\">\n",
              "        <textPath xlink:href=\"#arrow-81e0c353d00f484f9a73c1ce4512cff6-0-13\" class=\"displacy-label\" startOffset=\"50%\" side=\"left\" fill=\"currentColor\" text-anchor=\"middle\">prep</textPath>\n",
              "    </text>\n",
              "    <path class=\"displacy-arrowhead\" d=\"M1905.0,224.0 L1913.0,212.0 1897.0,212.0\" fill=\"currentColor\"/>\n",
              "</g>\n",
              "\n",
              "<g class=\"displacy-arrow\">\n",
              "    <path class=\"displacy-arc\" id=\"arrow-81e0c353d00f484f9a73c1ce4512cff6-0-14\" stroke-width=\"2px\" d=\"M1940,222.0 C1940,167.0 2015.0,167.0 2015.0,222.0\" fill=\"none\" stroke=\"currentColor\"/>\n",
              "    <text dy=\"1.25em\" style=\"font-size: 0.8em; letter-spacing: 1px\">\n",
              "        <textPath xlink:href=\"#arrow-81e0c353d00f484f9a73c1ce4512cff6-0-14\" class=\"displacy-label\" startOffset=\"50%\" side=\"left\" fill=\"currentColor\" text-anchor=\"middle\">pobj</textPath>\n",
              "    </text>\n",
              "    <path class=\"displacy-arrowhead\" d=\"M2015.0,224.0 L2023.0,212.0 2007.0,212.0\" fill=\"currentColor\"/>\n",
              "</g>\n",
              "</svg></span>"
            ],
            "text/plain": [
              "<IPython.core.display.HTML object>"
            ]
          },
          "metadata": {
            "tags": []
          }
        }
      ]
    },
    {
      "cell_type": "code",
      "metadata": {
        "id": "qZc5vNwb3S7p",
        "colab": {
          "base_uri": "https://localhost:8080/",
          "height": 52
        },
        "outputId": "1287a1ec-c606-443d-bc1b-96dfa02f5171"
      },
      "source": [
        "doc6=nlp(u\"H\\'i iam  Raza and i am software Engineer to bee.! and my salary is $12.30 per hour\")\n",
        "displacy.render(doc6 , style='ent',jupyter=True)"
      ],
      "execution_count": null,
      "outputs": [
        {
          "output_type": "display_data",
          "data": {
            "text/html": [
              "<span class=\"tex2jax_ignore\"><div class=\"entities\" style=\"line-height: 2.5; direction: ltr\">\n",
              "<mark class=\"entity\" style=\"background: #aa9cfc; padding: 0.45em 0.6em; margin: 0 0.25em; line-height: 1; border-radius: 0.35em;\">\n",
              "    H'i iam  \n",
              "    <span style=\"font-size: 0.8em; font-weight: bold; line-height: 1; border-radius: 0.35em; text-transform: uppercase; vertical-align: middle; margin-left: 0.5rem\">PERSON</span>\n",
              "</mark>\n",
              "\n",
              "<mark class=\"entity\" style=\"background: #bfeeb7; padding: 0.45em 0.6em; margin: 0 0.25em; line-height: 1; border-radius: 0.35em;\">\n",
              "    Raza\n",
              "    <span style=\"font-size: 0.8em; font-weight: bold; line-height: 1; border-radius: 0.35em; text-transform: uppercase; vertical-align: middle; margin-left: 0.5rem\">PRODUCT</span>\n",
              "</mark>\n",
              " and i am software Engineer to bee.! and my salary is $\n",
              "<mark class=\"entity\" style=\"background: #e4e7d2; padding: 0.45em 0.6em; margin: 0 0.25em; line-height: 1; border-radius: 0.35em;\">\n",
              "    12.30\n",
              "    <span style=\"font-size: 0.8em; font-weight: bold; line-height: 1; border-radius: 0.35em; text-transform: uppercase; vertical-align: middle; margin-left: 0.5rem\">MONEY</span>\n",
              "</mark>\n",
              " per hour</div></span>"
            ],
            "text/plain": [
              "<IPython.core.display.HTML object>"
            ]
          },
          "metadata": {
            "tags": []
          }
        }
      ]
    },
    {
      "cell_type": "code",
      "metadata": {
        "id": "oDvTz1DF4SIA"
      },
      "source": [
        "# Lemmatization"
      ],
      "execution_count": null,
      "outputs": []
    },
    {
      "cell_type": "code",
      "metadata": {
        "id": "-vfG5DKV9ur4",
        "colab": {
          "base_uri": "https://localhost:8080/",
          "height": 394
        },
        "outputId": "98f4a6b9-abb3-4c50-c804-8be6351814de"
      },
      "source": [
        "var1=nlp(u\"H\\'i i am  Raza and i am software Engineer to bee.! and my salary is $12.30 per hour\")\n",
        "for token in var1:\n",
        "  print(token.text,'\\t',token.pos_, '\\t',token.lemma, '\\t', token.lemma_)"
      ],
      "execution_count": null,
      "outputs": [
        {
          "output_type": "stream",
          "text": [
            "H'i \t PROPN \t 14358877114383128508 \t H'i\n",
            "i \t PRON \t 5097672513440128799 \t i\n",
            "am \t AUX \t 10382539506755952630 \t be\n",
            "  \t SPACE \t 8532415787641010193 \t  \n",
            "Raza \t PROPN \t 15675301881751079675 \t Raza\n",
            "and \t CCONJ \t 2283656566040971221 \t and\n",
            "i \t PRON \t 5097672513440128799 \t i\n",
            "am \t AUX \t 10382539506755952630 \t be\n",
            "software \t NOUN \t 8212201967714533330 \t software\n",
            "Engineer \t PROPN \t 7029714065625710103 \t Engineer\n",
            "to \t ADP \t 3791531372978436496 \t to\n",
            "bee \t VERB \t 4529675196228538557 \t bee\n",
            ". \t PUNCT \t 12646065887601541794 \t .\n",
            "! \t PUNCT \t 17494803046312582752 \t !\n",
            "and \t CCONJ \t 2283656566040971221 \t and\n",
            "my \t DET \t 561228191312463089 \t -PRON-\n",
            "salary \t NOUN \t 1644376874479534817 \t salary\n",
            "is \t AUX \t 10382539506755952630 \t be\n",
            "$ \t SYM \t 11283501755624150392 \t $\n",
            "12.30 \t NUM \t 11721170599520637169 \t 12.30\n",
            "per \t ADP \t 799935474406865112 \t per\n",
            "hour \t NOUN \t 9748623380567160636 \t hour\n"
          ],
          "name": "stdout"
        }
      ]
    },
    {
      "cell_type": "code",
      "metadata": {
        "id": "buQMfQk9-wib"
      },
      "source": [
        "def show_lemma(text):\n",
        "  for i in text:\n",
        "    print(f'{i.text:{12}},{i.pos_:{6}},{i.lemma:<{22}},{i.lemma_}')"
      ],
      "execution_count": null,
      "outputs": []
    },
    {
      "cell_type": "code",
      "metadata": {
        "id": "WhX18QNmAtz2",
        "colab": {
          "base_uri": "https://localhost:8080/",
          "height": 377
        },
        "outputId": "8a918230-01d5-40f6-b5d3-ab8ea47098ea"
      },
      "source": [
        "var2=nlp(u\"H\\'i iam  Raza and i am software Engineer to bee.! and my salary is $12.30 per hour\")\n",
        "show_lemma(var2)"
      ],
      "execution_count": null,
      "outputs": [
        {
          "output_type": "stream",
          "text": [
            "H'i         ,PROPN ,14358877114383128508  ,H'i\n",
            "iam         ,PROPN ,528549320860036448    ,iam\n",
            "            ,SPACE ,8532415787641010193   , \n",
            "Raza        ,PROPN ,15675301881751079675  ,Raza\n",
            "and         ,CCONJ ,2283656566040971221   ,and\n",
            "i           ,PRON  ,5097672513440128799   ,i\n",
            "am          ,AUX   ,10382539506755952630  ,be\n",
            "software    ,NOUN  ,8212201967714533330   ,software\n",
            "Engineer    ,PROPN ,7029714065625710103   ,Engineer\n",
            "to          ,ADP   ,3791531372978436496   ,to\n",
            "bee         ,VERB  ,4529675196228538557   ,bee\n",
            ".           ,PUNCT ,12646065887601541794  ,.\n",
            "!           ,PUNCT ,17494803046312582752  ,!\n",
            "and         ,CCONJ ,2283656566040971221   ,and\n",
            "my          ,DET   ,561228191312463089    ,-PRON-\n",
            "salary      ,NOUN  ,1644376874479534817   ,salary\n",
            "is          ,AUX   ,10382539506755952630  ,be\n",
            "$           ,SYM   ,11283501755624150392  ,$\n",
            "12.30       ,NUM   ,11721170599520637169  ,12.30\n",
            "per         ,ADP   ,799935474406865112    ,per\n",
            "hour        ,NOUN  ,9748623380567160636   ,hour\n"
          ],
          "name": "stdout"
        }
      ]
    },
    {
      "cell_type": "code",
      "metadata": {
        "id": "2jk5fhwuA2i5",
        "colab": {
          "base_uri": "https://localhost:8080/",
          "height": 206
        },
        "outputId": "e039774a-d20f-4913-ccf1-2f5911ba3d4c"
      },
      "source": [
        "var3=nlp(u\"I am metting for PM Imaran khan at tommorow 10.30 am \")\n",
        "show_lemma(var3)"
      ],
      "execution_count": null,
      "outputs": [
        {
          "output_type": "stream",
          "text": [
            "I           ,PRON  ,561228191312463089    ,-PRON-\n",
            "am          ,AUX   ,10382539506755952630  ,be\n",
            "metting     ,VERB  ,2918157206099885316   ,mette\n",
            "for         ,ADP   ,16037325823156266367  ,for\n",
            "PM          ,PROPN ,5716521298976847904   ,PM\n",
            "Imaran      ,PROPN ,5404879669219256098   ,Imaran\n",
            "khan        ,PROPN ,7253724392693562913   ,khan\n",
            "at          ,ADP   ,11667289587015813222  ,at\n",
            "tommorow    ,NOUN  ,14881451523362505806  ,tommorow\n",
            "10.30       ,NUM   ,9254555480426240138   ,10.30\n",
            "am          ,NOUN  ,959164148857638496    ,am\n"
          ],
          "name": "stdout"
        }
      ]
    },
    {
      "cell_type": "code",
      "metadata": {
        "id": "QcAcePgtCzxt"
      },
      "source": [
        "#Stop Words"
      ],
      "execution_count": null,
      "outputs": []
    },
    {
      "cell_type": "code",
      "metadata": {
        "id": "qYWnLKw5DuPb",
        "colab": {
          "base_uri": "https://localhost:8080/",
          "height": 69
        },
        "outputId": "417d4771-db94-490b-d9bf-94908aa34f6e"
      },
      "source": [
        "import nltk\n",
        "nltk.download('stopwords')"
      ],
      "execution_count": null,
      "outputs": [
        {
          "output_type": "stream",
          "text": [
            "[nltk_data] Downloading package stopwords to /root/nltk_data...\n",
            "[nltk_data]   Package stopwords is already up-to-date!\n"
          ],
          "name": "stdout"
        },
        {
          "output_type": "execute_result",
          "data": {
            "text/plain": [
              "True"
            ]
          },
          "metadata": {
            "tags": []
          },
          "execution_count": 47
        }
      ]
    },
    {
      "cell_type": "code",
      "metadata": {
        "id": "-03EwghMGVb-",
        "colab": {
          "base_uri": "https://localhost:8080/",
          "height": 55
        },
        "outputId": "a50a0ada-c5ea-46f6-9786-1da43b473237"
      },
      "source": [
        "stopwords=nlp.Defaults.stop_words\n",
        "print(stopwords)"
      ],
      "execution_count": null,
      "outputs": [
        {
          "output_type": "stream",
          "text": [
            "{'others', 'seeming', 'off', 'next', 'behind', 'however', 'per', 'rather', 'under', 'further', 'whereby', 'or', 'amount', 'well', 'everywhere', 'such', 'never', 'top', 'still', 'together', 'was', 'throughout', 'n‘t', 'move', 'how', 'down', 'without', 'empty', 'noone', 'again', 'within', 'might', 'wherever', 'from', 'hereupon', 'had', 'itself', 'whose', 'as', 'wherein', \"'s\", 'enough', 'first', 'hers', 'when', 'beside', 'neither', 'ours', 'then', 'afterwards', 'should', 'only', 'whole', 'most', 'seems', 'ever', 'becoming', 'herself', 'although', 'name', \"'re\", 'too', 'can', 'does', 'hereafter', 'both', 'less', 'made', 'but', 'serious', '’s', 'towards', 'own', 'beforehand', 'if', 'another', 'its', 'nobody', 'often', 'so', 'anyhow', 'he', 'say', 'will', 'may', \"'d\", '’re', 'she', 'after', 'alone', 'forty', 'cannot', 'either', 'became', 'please', 'some', 'they', 'used', 'whither', 'yourself', 'n’t', 'whereas', 'therefore', 'every', 'see', '’d', 'done', 'ca', 'each', 'which', 'meanwhile', 'thus', 'mostly', 'fifteen', 'four', 'even', 'latterly', 'nine', 'not', 'now', 'hence', 'other', 'it', 'part', 'show', \"'ll\", 'just', 'everything', 'hereby', 'have', 'onto', 'above', 'could', 'full', 'our', 'side', 'somewhere', 'their', 'your', 'everyone', 'being', 'by', 'also', 'my', 'up', 'while', 'last', 'more', 'must', 'several', 'no', 'beyond', 'always', 'out', 'very', 'were', 'five', 'indeed', '‘m', 'into', 'below', 'him', 'who', 'really', 'namely', 'doing', 'in', 're', 'make', 'none', 'eleven', 'around', 'to', 'thereafter', 'we', 'sometimes', 'been', 'these', 'else', 'therein', 'somehow', 'thence', 'seem', 'due', 'since', 'six', 'elsewhere', 'keep', 'through', 'than', 'third', 'two', 'them', 'those', 'i', 'many', 'unless', 'latter', 'before', 'via', 'become', 'formerly', 'whenever', 'that', 'sometime', 'put', 'would', 'mine', 'is', 'do', 'twelve', 'twenty', '’m', 'back', 'thereby', 'a', 'whoever', 'us', 'his', 'at', 'becomes', 'otherwise', 'why', '‘ve', 'among', 'you', 'am', 'regarding', 'over', 'seemed', 'get', 'whereupon', \"'ve\", 'herein', \"n't\", 'across', 'until', 'anything', 'nowhere', 'ten', 'along', 'sixty', 'are', 'all', 'of', 'myself', 'someone', 'whatever', 'yet', 'about', 'amongst', 'thereupon', 'hundred', 'once', '‘d', '‘s', 'whereafter', 'whom', 'fifty', 'her', 'using', 'take', 'almost', 'an', 'during', 'anywhere', 'there', 'on', 'where', 'and', 'toward', 'anyone', '‘re', '’ve', 'because', 'anyway', 'besides', 'himself', 'much', 'between', 'call', 'yours', \"'m\", 'front', 'this', 'against', 'one', 'same', 'though', 'themselves', 'few', 'bottom', 'least', 'upon', 'former', 'various', 'nevertheless', '‘ll', 'moreover', 'quite', '’ll', 'did', 'whether', 'perhaps', 'already', 'be', 'me', 'the', 'any', 'ourselves', 'with', 'has', 'nor', 'what', 'for', 'eight', 'except', 'give', 'here', 'nothing', 'something', 'whence', 'yourselves', 'three', 'go', 'thru'}\n"
          ],
          "name": "stdout"
        }
      ]
    },
    {
      "cell_type": "code",
      "metadata": {
        "id": "AIQk0LDTGgnW",
        "colab": {
          "base_uri": "https://localhost:8080/",
          "height": 35
        },
        "outputId": "bae396bd-46e6-495e-9b0d-83367659f3be"
      },
      "source": [
        "len(stopwords)"
      ],
      "execution_count": null,
      "outputs": [
        {
          "output_type": "execute_result",
          "data": {
            "text/plain": [
              "326"
            ]
          },
          "metadata": {
            "tags": []
          },
          "execution_count": 50
        }
      ]
    },
    {
      "cell_type": "code",
      "metadata": {
        "id": "MQvzNo1PGtlH"
      },
      "source": [
        ""
      ],
      "execution_count": null,
      "outputs": []
    }
  ]
}